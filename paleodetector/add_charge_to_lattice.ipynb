{
 "cells": [
  {
   "cell_type": "code",
   "execution_count": 7,
   "id": "7294d155-f49d-4d14-9049-7d6bf002fe45",
   "metadata": {},
   "outputs": [],
   "source": [
    "#!/usr/bin/env python3\n",
    "# -*- coding: utf-8 -*-\n",
    "\"\"\"\n",
    "Script to update charge values based on atom type for a LAMMPS data-like file from the output of change_letter_to_type.\n",
    "Assumes format: ID type charge x y z\n",
    "\n",
    "@author: emlavoie modified by @kmream\n",
    "\"\"\"\n",
    "import re\n",
    "\n",
    "input_file = 'gold_for_overleaf.txt' #modify this for your particular input file\n",
    "output_file = 'gold_for_overleaf_output.lmp' #modify this to match your desired file output \n",
    "\n",
    "# Mapping from atom symbol to type\n",
    "charge_by_type = {\n",
    "    '1': 1.0,   # type 1 particles now have a positive charge of 1.0\n",
    "    #'2': -2.0   # type 2 particles nowhave a negative charge of -2.0\n",
    "}\n",
    "\n",
    "with open(input_file, 'r') as fin, open(output_file, 'w') as fout:\n",
    "    for line in fin:\n",
    "        # Skip empty or malformed lines\n",
    "        if not line.strip() or len(line.split()) < 6:\n",
    "            fout.write(line)\n",
    "            continue\n",
    "\n",
    "        parts = line.strip().split()\n",
    "        atom_type = parts[1]\n",
    "        \n",
    "        if atom_type in charge_by_type:\n",
    "            parts[2] = str(charge_by_type[atom_type])  # Replace charge\n",
    "        else:\n",
    "            print(f\"Warning: Unknown type {atom_type} in line: {line.strip()}\")\n",
    "\n",
    "        fout.write(' '.join(parts) + '\\n')"
   ]
  }
 ],
 "metadata": {
  "kernelspec": {
   "display_name": "Python 3 (ipykernel)",
   "language": "python",
   "name": "python3"
  },
  "language_info": {
   "codemirror_mode": {
    "name": "ipython",
    "version": 3
   },
   "file_extension": ".py",
   "mimetype": "text/x-python",
   "name": "python",
   "nbconvert_exporter": "python",
   "pygments_lexer": "ipython3",
   "version": "3.9.7"
  }
 },
 "nbformat": 4,
 "nbformat_minor": 5
}
