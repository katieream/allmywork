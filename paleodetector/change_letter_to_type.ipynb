{
 "cells": [
  {
   "cell_type": "code",
   "execution_count": 4,
   "id": "7294d155-f49d-4d14-9049-7d6bf002fe45",
   "metadata": {},
   "outputs": [],
   "source": [
    "\"\"\"\n",
    "Script to update to change atom name abbreviations to integer types for LAMMPS input. The input was generated from\n",
    "CrystalMaker and should be in a .txt format. \n",
    "\n",
    "Input format: Name x y z\n",
    "Output format: ID Type x y z\n",
    "Example change:\n",
    "Au 10.0 10.0 10.0 -> 1 1 10.0 10.0 10.0\n",
    "Au 10.0 9.0 8.0   -> 2 1 10.0 9.0 8.0\n",
    "\n",
    "Type numbers must start from 1 and increase with more atoms as 2, 3, 4, etc, accordingly. \n",
    "\n",
    "@author: kmream\n",
    "\"\"\"\n",
    "import re\n",
    "\n",
    "input_file = 'gold_for_overleaf.txt'  # modify this for your particular input file\n",
    "output_file = 'gold_for_overleaf_output.lmp'  # modify this to match your desired file output \n",
    "\n",
    "# Mapping from atom symbol to type as a dictionary - add rows as necessary\n",
    "type_by_symbol = {\n",
    "    'Au': 1,   # Gold is now type 1; modify this as needed\n",
    "}\n",
    "\n",
    "index = 1  # Start indexing from 1\n",
    "\n",
    "with open(input_file, 'r') as fin, open(output_file, 'w') as fout:\n",
    "    for line in fin:\n",
    "        # Skip empty or malformed lines\n",
    "        if not line.strip() or len(line.split()) < 4:\n",
    "            fout.write(line)\n",
    "            continue\n",
    "\n",
    "        parts = line.strip().split()\n",
    "        symbol = parts[0]\n",
    "\n",
    "        if symbol in type_by_symbol:\n",
    "            parts[0] = type_by_symbol[symbol]\n",
    "        else:\n",
    "            print(f\"Warning: Unknown symbol {symbol} in line: {line.strip()}\")\n",
    "\n",
    "        # Prepend index\n",
    "        formatted_line = [index] + list(map(str, parts))\n",
    "        fout.write(' '.join(map(str, formatted_line)) + '\\n')\n",
    "        index += 1"
   ]
  },
  {
   "cell_type": "code",
   "execution_count": null,
   "id": "59a55c2e-fee3-420f-be66-9b3ea9ea3dac",
   "metadata": {},
   "outputs": [],
   "source": []
  }
 ],
 "metadata": {
  "kernelspec": {
   "display_name": "Python 3 (ipykernel)",
   "language": "python",
   "name": "python3"
  },
  "language_info": {
   "codemirror_mode": {
    "name": "ipython",
    "version": 3
   },
   "file_extension": ".py",
   "mimetype": "text/x-python",
   "name": "python",
   "nbconvert_exporter": "python",
   "pygments_lexer": "ipython3",
   "version": "3.9.7"
  }
 },
 "nbformat": 4,
 "nbformat_minor": 5
}
