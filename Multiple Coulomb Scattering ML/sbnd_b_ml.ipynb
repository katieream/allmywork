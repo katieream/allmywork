{
 "cells": [
  {
   "cell_type": "code",
   "execution_count": 1,
   "id": "bea6bec1-8785-4602-afa9-40b0b9e8c820",
   "metadata": {},
   "outputs": [],
   "source": [
    "#if doing multiple convolution layers, do them all at the beginning first, then flatten out the layers and then\n",
    "#apply either one or multiple fully connected layers - if we do multiple fully connected layers, then each layer will have \n",
    "#different weights and non-linear functions (the more fully connected layers the more non-linear we go)\n",
    "#for now we can expect ReLu to be fine and if not will alter from there"
   ]
  },
  {
   "cell_type": "code",
   "execution_count": 1,
   "id": "4b87d5ff-9b14-4e55-8474-985db0675648",
   "metadata": {},
   "outputs": [],
   "source": [
    "import os\n",
    "from os.path import exists, isfile, join\n",
    "gpu = 'O'\n",
    "os.environ['KERAS_BACKEND']        = \"tensorflow\"\n",
    "os.environ['CUDA_VISIBLE_DEVICES'] = gpu\n",
    "#THE GPU IS SET UP HERE"
   ]
  },
  {
   "cell_type": "code",
   "execution_count": 3,
   "id": "a2c808dd-149a-4787-a6cb-af70b9b37fa6",
   "metadata": {},
   "outputs": [
    {
     "name": "stdout",
     "output_type": "stream",
     "text": [
      "Using Tensorflow version:  2.10.0\n"
     ]
    }
   ],
   "source": [
    "import tensorflow as tf\n",
    "print ('Using Tensorflow version: ', tf.__version__)\n",
    "import keras\n",
    "from keras.models import *\n",
    "from keras.layers import *\n",
    "from keras.layers.core import *\n",
    "from keras.layers.convolutional import *\n",
    "from tensorflow.keras.applications import ResNet50\n",
    "from tensorflow.keras.models import Model\n",
    "from tensorflow.keras.models import Sequential\n",
    "from tensorflow.keras.layers import Dense, Activation\n",
    "from tensorflow.keras.layers import Conv2D, Input, Dense, Dropout, Flatten, GlobalAveragePooling2D\n",
    "from tensorflow.keras.activations import *\n",
    "#from keras.layers.advanced_activations import LeakyReLU, PReLU\n",
    "from keras.optimizers import *\n",
    "from keras.callbacks import ModelCheckpoint\n",
    "from keras.callbacks import Callback\n",
    "from train_utils import read_config, get_patch_size, count_events#, load_config\n",
    "\n",
    "import numpy as np\n",
    "np.random.seed(2021)  # for reproducibility\n",
    "import json #stands for java script object notation\n",
    "import math\n",
    "import datetime"
   ]
  },
  {
   "cell_type": "code",
   "execution_count": 4,
   "id": "f032fb28-787c-4797-9376-aa28b178bbc9",
   "metadata": {},
   "outputs": [],
   "source": [
    "def save_model(model, name):\n",
    "    try:\n",
    "        name += '_'\n",
    "        name += datetime.datetime.now().strftime(\"%y%m%d-%H:%M\")\n",
    "        with open(name + '_architecture.json', 'w') as f:\n",
    "            f.write(model.to_json())\n",
    "        # model.save_weights(name + '_weights.h5', overwrite=True)\n",
    "        return True\n",
    "    except: return False\n",
    "\n",
    "def save_history(history, name):\n",
    "    try:\n",
    "        name += '_'\n",
    "        name += datetime.datetime.now().strftime(\"%y%m%d-%H:%M\")\n",
    "        name += '.npy'\n",
    "        np.save(name, history.history)\n",
    "        return True\n",
    "    except: return False"
   ]
  },
  {
   "cell_type": "code",
   "execution_count": 5,
   "id": "d431c470-c73c-4629-8e27-2b6d4e7dc60a",
   "metadata": {},
   "outputs": [
    {
     "name": "stdout",
     "output_type": "stream",
     "text": [
      "{'input_dir': '/home/kmream/mlfile/tutorial/samples/test/samples_', 'batch_size': 10, 'nb_epoch': 10}\n"
     ]
    }
   ],
   "source": [
    "config = read_config(\"train_config.json\")\n",
    "#config = load_config(\"train_config.json\", allow_pickle = True)\n",
    "print(config) #note to self: folder 0 is the one I tried making multiple files combined\n",
    "\n",
    "INPUT_DIR = config['input_dir']\n",
    "\n",
    "#print(\"input dir:\", INPUT_DIR) #gives the following when printed: input dir: /home/kmream/mlfile/tutorial\n",
    "PATCH_SIZE_W, PATCH_SIZE_D = 2400,80"
   ]
  },
  {
   "cell_type": "code",
   "execution_count": 6,
   "id": "4cb9d969-b950-4a64-a6b2-72ecc3c20234",
   "metadata": {},
   "outputs": [],
   "source": [
    "FRACTION_VALIDATION = 0.1\n",
    "FRACTION_TEST       = 0.1\n",
    "BATCH_SIZE          = config['batch_size']\n",
    "N_EPOCH             = config['nb_epoch']\n",
    "\n",
    "N_CONV_FILTERS_0 = 40 #number of kernels\n",
    "N_CONV_FILTERS_1 = 80 #number of kernels\n",
    "N_CONV_FILTERS_2 = 120 #number of kernels\n",
    "CONV_SHAPES    = [3] #size of nxn kernel\n",
    "CONV_ACT_FN    = 'LeakyReLu'\n",
    "DROPOUT1       = 0.5 #amount of pixels that drop out, in this case 50%\n",
    "DROPOUT2       = 0.3\n",
    "\n",
    "DENSESIZE1   = 64 #values given in the code, will most likely mess around with these\n",
    "DENS_ACT_FN1 = 'LeakyReLu'\n",
    "\n",
    "DENSESIZE2   = 32 #values given in the code, will most likely mess around with these\n",
    "DENS_ACT_FN2 = 'LeakyReLu'"
   ]
  },
  {
   "cell_type": "code",
   "execution_count": 7,
   "id": "08ae88e6-97e8-408e-9451-c54152bb61b4",
   "metadata": {},
   "outputs": [],
   "source": [
    "# N_CONV_LAYERS0 = len(N_CONV_FILTERS_0)\n",
    "# N_CONV_LAYERS1 = len(N_CONV_FILTERS_1)\n",
    "# N_CONV_LAYERS2 = len(N_CONV_FILTERS_2)\n",
    "# #N_CONV_LAYERS = [[1],[1],[1]]\n",
    "# #print(N_CONV_LAYERS[2])\n",
    "# #print(\"N_Conv_Layers:\", N_CONV_LAYERS) #printing this out it's only 1? need to resolve this issue or rewrite it since in the ex code it only takes in one conv layer\n",
    "N_CONV_LAYERS0 = [N_CONV_FILTERS_0]\n",
    "CONFIG_NAME  = str(N_CONV_LAYERS0) + 'layers_' + CONV_ACT_FN + '_' + str(N_EPOCH) + '_epoch'\n",
    "\n",
    "# datestring = datetime.datetime.now().strftime(\"%y%m%d-%h:%m\")\n",
    "# if len(N_CONV_FILTERS_0) != len(CONV_SHAPES): \n",
    "#     print (\"Invalid conv filters\")\n",
    "#     exit()\n",
    "# if len(N_CONV_FILTERS_1) != len(CONV_SHAPES): \n",
    "#     print (\"Invalid conv filters\")\n",
    "#     exit()\n",
    "# if len(N_CONV_FILTERS_2) != len(CONV_SHAPES): \n",
    "#     print (\"Invalid conv filters\")\n",
    "#     exit()"
   ]
  },
  {
   "cell_type": "code",
   "execution_count": 10,
   "id": "1b180195-7f1e-4e10-a319-7102baf4767a",
   "metadata": {},
   "outputs": [],
   "source": [
    "#different kernel initializers to try out (mark if tried already):\n",
    "#Zeros\n",
    "#Ones\n",
    "#RandomNormal: initializes on gaussian distribution of specified mean and std\n",
    "#RandomUniform: initializes on uniform range of specified range\n",
    "#GlorotNormal: initializes on gaussian distribution\n",
    "#GlorotUniform: initializes on uniform distribution for activation functions\n",
    "#HeNormal: initializes on gaussian with variance scaling on number of inputs\n",
    "#HeUniform: initializes on uniform range scaling on number of inputs\n",
    "#Orthogonal: initializes as a random matrix\n",
    "#Identity: initializes as identity matrix\n",
    "#VarianceScaling: specify custom scaling functions for weights"
   ]
  },
  {
   "cell_type": "code",
   "execution_count": 12,
   "id": "13064539-542e-40da-8654-8670e586f3ad",
   "metadata": {},
   "outputs": [
    {
     "name": "stderr",
     "output_type": "stream",
     "text": [
      "2023-08-01 23:49:59.328209: E tensorflow/stream_executor/cuda/cuda_driver.cc:265] failed call to cuInit: CUDA_ERROR_NO_DEVICE: no CUDA-capable device is detected\n",
      "2023-08-01 23:49:59.328252: I tensorflow/stream_executor/cuda/cuda_diagnostics.cc:163] no NVIDIA GPU device is present: /dev/nvidia0 does not exist\n",
      "2023-08-01 23:49:59.329270: I tensorflow/core/platform/cpu_feature_guard.cc:193] This TensorFlow binary is optimized with oneAPI Deep Neural Network Library (oneDNN) to use the following CPU instructions in performance-critical operations:  SSE4.1 SSE4.2 AVX AVX2 FMA\n",
      "To enable them in other operations, rebuild TensorFlow with the appropriate compiler flags.\n"
     ]
    },
    {
     "name": "stdout",
     "output_type": "stream",
     "text": [
      "Model: \"model\"\n",
      "__________________________________________________________________________________________________\n",
      " Layer (type)                   Output Shape         Param #     Connected to                     \n",
      "==================================================================================================\n",
      " main_input (InputLayer)        [(None, 2400, 80, 1  0           []                               \n",
      "                                )]                                                                \n",
      "                                                                                                  \n",
      " conv2d (Conv2D)                (None, 2400, 80, 32  320         ['main_input[0][0]']             \n",
      "                                )                                                                 \n",
      "                                                                                                  \n",
      " leaky_re_lu (LeakyReLU)        (None, 2400, 80, 32  0           ['conv2d[0][0]']                 \n",
      "                                )                                                                 \n",
      "                                                                                                  \n",
      " max_pooling2d (MaxPooling2D)   (None, 1200, 40, 32  0           ['leaky_re_lu[0][0]']            \n",
      "                                )                                                                 \n",
      "                                                                                                  \n",
      " conv2d_1 (Conv2D)              (None, 1200, 40, 64  18496       ['max_pooling2d[0][0]']          \n",
      "                                )                                                                 \n",
      "                                                                                                  \n",
      " leaky_re_lu_1 (LeakyReLU)      (None, 1200, 40, 64  0           ['conv2d_1[0][0]']               \n",
      "                                )                                                                 \n",
      "                                                                                                  \n",
      " max_pooling2d_1 (MaxPooling2D)  (None, 600, 20, 64)  0          ['leaky_re_lu_1[0][0]']          \n",
      "                                                                                                  \n",
      " conv2d_2 (Conv2D)              (None, 600, 20, 128  73856       ['max_pooling2d_1[0][0]']        \n",
      "                                )                                                                 \n",
      "                                                                                                  \n",
      " leaky_re_lu_2 (LeakyReLU)      (None, 600, 20, 128  0           ['conv2d_2[0][0]']               \n",
      "                                )                                                                 \n",
      "                                                                                                  \n",
      " max_pooling2d_2 (MaxPooling2D)  (None, 300, 10, 128  0          ['leaky_re_lu_2[0][0]']          \n",
      "                                )                                                                 \n",
      "                                                                                                  \n",
      " conv2d_3 (Conv2D)              (None, 300, 10, 256  295168      ['max_pooling2d_2[0][0]']        \n",
      "                                )                                                                 \n",
      "                                                                                                  \n",
      " leaky_re_lu_3 (LeakyReLU)      (None, 300, 10, 256  0           ['conv2d_3[0][0]']               \n",
      "                                )                                                                 \n",
      "                                                                                                  \n",
      " max_pooling2d_3 (MaxPooling2D)  (None, 150, 5, 256)  0          ['leaky_re_lu_3[0][0]']          \n",
      "                                                                                                  \n",
      " conv2d_4 (Conv2D)              (None, 150, 5, 256)  590080      ['max_pooling2d_3[0][0]']        \n",
      "                                                                                                  \n",
      " leaky_re_lu_4 (LeakyReLU)      (None, 150, 5, 256)  0           ['conv2d_4[0][0]']               \n",
      "                                                                                                  \n",
      " dropout_4 (Dropout)            (None, 150, 5, 256)  0           ['leaky_re_lu_4[0][0]']          \n",
      "                                                                                                  \n",
      " conv2d_5 (Conv2D)              (None, 150, 5, 256)  590080      ['dropout_4[0][0]']              \n",
      "                                                                                                  \n",
      " leaky_re_lu_5 (LeakyReLU)      (None, 150, 5, 256)  0           ['conv2d_5[0][0]']               \n",
      "                                                                                                  \n",
      " dropout_5 (Dropout)            (None, 150, 5, 256)  0           ['leaky_re_lu_5[0][0]']          \n",
      "                                                                                                  \n",
      " conv2d_6 (Conv2D)              (None, 150, 5, 256)  590080      ['dropout_5[0][0]']              \n",
      "                                                                                                  \n",
      " leaky_re_lu_6 (LeakyReLU)      (None, 150, 5, 256)  0           ['conv2d_6[0][0]']               \n",
      "                                                                                                  \n",
      " dropout_6 (Dropout)            (None, 150, 5, 256)  0           ['leaky_re_lu_6[0][0]']          \n",
      "                                                                                                  \n",
      " conv2d_7 (Conv2D)              (None, 150, 5, 256)  590080      ['dropout_6[0][0]']              \n",
      "                                                                                                  \n",
      " leaky_re_lu_7 (LeakyReLU)      (None, 150, 5, 256)  0           ['conv2d_7[0][0]']               \n",
      "                                                                                                  \n",
      " dropout_7 (Dropout)            (None, 150, 5, 256)  0           ['leaky_re_lu_7[0][0]']          \n",
      "                                                                                                  \n",
      " conv2d_8 (Conv2D)              (None, 150, 5, 256)  590080      ['dropout_7[0][0]']              \n",
      "                                                                                                  \n",
      " leaky_re_lu_8 (LeakyReLU)      (None, 150, 5, 256)  0           ['conv2d_8[0][0]']               \n",
      "                                                                                                  \n",
      " up_sampling2d (UpSampling2D)   (None, 300, 10, 256  0           ['leaky_re_lu_8[0][0]']          \n",
      "                                )                                                                 \n",
      "                                                                                                  \n",
      " concatenate (Concatenate)      (None, 300, 10, 512  0           ['conv2d_3[0][0]',               \n",
      "                                )                                 'up_sampling2d[0][0]']          \n",
      "                                                                                                  \n",
      " conv2d_9 (Conv2D)              (None, 300, 10, 128  589952      ['concatenate[0][0]']            \n",
      "                                )                                                                 \n",
      "                                                                                                  \n",
      " leaky_re_lu_9 (LeakyReLU)      (None, 300, 10, 128  0           ['conv2d_9[0][0]']               \n",
      "                                )                                                                 \n",
      "                                                                                                  \n",
      " up_sampling2d_1 (UpSampling2D)  (None, 600, 20, 128  0          ['leaky_re_lu_9[0][0]']          \n",
      "                                )                                                                 \n",
      "                                                                                                  \n",
      " concatenate_1 (Concatenate)    (None, 600, 20, 256  0           ['conv2d_2[0][0]',               \n",
      "                                )                                 'up_sampling2d_1[0][0]']        \n",
      "                                                                                                  \n",
      " conv2d_10 (Conv2D)             (None, 600, 20, 64)  147520      ['concatenate_1[0][0]']          \n",
      "                                                                                                  \n",
      " leaky_re_lu_10 (LeakyReLU)     (None, 600, 20, 64)  0           ['conv2d_10[0][0]']              \n",
      "                                                                                                  \n",
      " up_sampling2d_2 (UpSampling2D)  (None, 1200, 40, 64  0          ['leaky_re_lu_10[0][0]']         \n",
      "                                )                                                                 \n",
      "                                                                                                  \n",
      " concatenate_2 (Concatenate)    (None, 1200, 40, 12  0           ['conv2d_1[0][0]',               \n",
      "                                8)                                'up_sampling2d_2[0][0]']        \n",
      "                                                                                                  \n",
      " conv2d_11 (Conv2D)             (None, 1200, 40, 32  36896       ['concatenate_2[0][0]']          \n",
      "                                )                                                                 \n",
      "                                                                                                  \n",
      " leaky_re_lu_11 (LeakyReLU)     (None, 1200, 40, 32  0           ['conv2d_11[0][0]']              \n",
      "                                )                                                                 \n",
      "                                                                                                  \n",
      " up_sampling2d_3 (UpSampling2D)  (None, 2400, 80, 32  0          ['leaky_re_lu_11[0][0]']         \n",
      "                                )                                                                 \n",
      "                                                                                                  \n",
      " concatenate_3 (Concatenate)    (None, 2400, 80, 64  0           ['conv2d[0][0]',                 \n",
      "                                )                                 'up_sampling2d_3[0][0]']        \n",
      "                                                                                                  \n",
      " flatten (Flatten)              (None, 12288000)     0           ['concatenate_3[0][0]']          \n",
      "                                                                                                  \n",
      " output (Dense)                 (None, 1)            12288001    ['flatten[0][0]']                \n",
      "                                                                                                  \n",
      "==================================================================================================\n",
      "Total params: 16,400,609\n",
      "Trainable params: 16,400,609\n",
      "Non-trainable params: 0\n",
      "__________________________________________________________________________________________________\n",
      "None\n"
     ]
    }
   ],
   "source": [
    "#creating the UNet model\n",
    "def unet_model(input_shape):\n",
    "    #we note that since dealing wiht grayscale images there is only a single channel, so no need to bother with starting neurons \n",
    "    main_input = Input(shape=input_shape, name='main_input') #sparse=True, name='main_input')\n",
    "\n",
    "    conv1 = tf.keras.layers.Conv2D(filters=32, kernel_size=3, padding='same')(main_input)\n",
    "    act1 = tf.keras.layers.LeakyReLU(alpha=0.01)(conv1)\n",
    "    pool1 = tf.keras.layers.MaxPooling2D(pool_size=(2, 2), strides=(2, 2))(act1)\n",
    "    drop1 = Dropout(0.5)(pool1)\n",
    "\n",
    "    conv2 = tf.keras.layers.Conv2D(filters=64, kernel_size=3, padding='same')(pool1)\n",
    "    act2 = tf.keras.layers.LeakyReLU(alpha=0.01)(conv2)\n",
    "    pool2 = tf.keras.layers.MaxPooling2D(pool_size=(2, 2), strides=(2,2))(act2)\n",
    "    drop2 = Dropout(0.5)(pool2)\n",
    "\n",
    "    conv3 = tf.keras.layers.Conv2D(filters=128, kernel_size=3, padding='same')(pool2)\n",
    "    act3 = tf.keras.layers.LeakyReLU(alpha=0.01)(conv3)\n",
    "    pool3 = tf.keras.layers.MaxPooling2D(pool_size=(2, 2))(act3)\n",
    "    drop3 = Dropout(0.5)(pool3)\n",
    "\n",
    "    conv4 = tf.keras.layers.Conv2D(filters=256, kernel_size=3, padding='same')(pool3)\n",
    "    act4 = tf.keras.layers.LeakyReLU(alpha=0.01)(conv4)\n",
    "    pool4 = tf.keras.layers.MaxPooling2D(pool_size=(2, 2), strides=(2,2))(act4)\n",
    "    drop4 = Dropout(0.5)(pool4)\n",
    "    \n",
    "    convm = tf.keras.layers.Conv2D(filters=256, kernel_size=3, padding='same')(pool4)\n",
    "    actm = tf.keras.layers.LeakyReLU(alpha=0.01)(convm)\n",
    "    dropm = Dropout(0.5)(actm)\n",
    "    convm2 = tf.keras.layers.Conv2D(filters=256, kernel_size=3, padding='same')(dropm)\n",
    "    actm2 = tf.keras.layers.LeakyReLU(alpha=0.01)(convm2)\n",
    "    dropm2 = Dropout(0.5)(actm2)\n",
    "    convm3 = tf.keras.layers.Conv2D(filters=256, kernel_size=3, padding='same')(dropm2)\n",
    "    actm3 = tf.keras.layers.LeakyReLU(alpha=0.01)(convm3)\n",
    "    dropm3 = Dropout(0.5)(actm3)\n",
    "    convm4 = tf.keras.layers.Conv2D(filters=256, kernel_size=3, padding='same')(dropm3)\n",
    "    actm4 = tf.keras.layers.LeakyReLU(alpha=0.01)(convm4)\n",
    "    dropm4 = Dropout(0.5)(actm4)\n",
    "    #middle convolution\n",
    "    \n",
    "    # Expanding Path (Decoder) activation='leakyrelu',\n",
    "    conv5 = tf.keras.layers.Conv2D(filters=256, kernel_size=3, padding='same')(dropm4)\n",
    "    act5 = tf.keras.layers.LeakyReLU(alpha=0.01)(conv5)\n",
    "    up1 = tf.keras.layers.UpSampling2D(size=(2, 2))(act5)\n",
    "    merge1 = tf.keras.layers.Concatenate(axis=-1)([conv4, up1])\n",
    "\n",
    "    conv6 = tf.keras.layers.Conv2D(filters=128, kernel_size=3, padding='same')(merge1)\n",
    "    act6 = tf.keras.layers.LeakyReLU(alpha=0.01)(conv6)\n",
    "    up2 = tf.keras.layers.UpSampling2D(size=(2, 2))(act6)\n",
    "    merge2 = tf.keras.layers.Concatenate(axis=-1)([conv3, up2])\n",
    "\n",
    "    conv7 = tf.keras.layers.Conv2D(filters=64, kernel_size=3, padding='same')(merge2)\n",
    "    act7 = tf.keras.layers.LeakyReLU(alpha=0.01)(conv7)\n",
    "    up3 = tf.keras.layers.UpSampling2D(size=(2, 2))(act7)\n",
    "    merge3 = tf.keras.layers.Concatenate(axis=-1)([conv2, up3])\n",
    "    \n",
    "    conv8 = tf.keras.layers.Conv2D(filters=32, kernel_size=3, padding='same')(merge3)\n",
    "    act8 = tf.keras.layers.LeakyReLU(alpha=0.01)(conv8)\n",
    "    up4 = tf.keras.layers.UpSampling2D(size=(2, 2))(act8)\n",
    "    merge4 = tf.keras.layers.Concatenate(axis=-1)([conv1, up4])\n",
    "    \n",
    "    #figure out a way to let the network know that I'm taking the mean of the image value\n",
    "    #modeltest_mean = np.mean(modeltest, axis=(1, 2))  # Take the mean along height and width axes\n",
    "    #modeltest_mean = np.squeeze(modeltest_mean)\n",
    "    \n",
    "    flatten = tf.keras.layers.Flatten()(merge4)\n",
    "\n",
    "    #output = tf.keras.layers.Conv2D(filters=1, kernel_size=1, activation='linear', name='output')(dense)\n",
    "    #output = tf.keras.layers.Dense(1, activation='linear', name='output')(dense)\n",
    "    output = tf.keras.layers.Dense(1, activation= 'linear', name = 'output')(flatten)\n",
    "    \n",
    "    #michel = Dense(1, activation='sigmoid', name='michel_netout')(x)\n",
    "    \n",
    "    #optimizer = tf.keras.optimizers.SGD(learning_rate=1e-5, momentum=0.8) #not 1e-6, not 1e-4\n",
    "    optimizer = tf.keras.optimizers.Adam(learning_rate=1e-6, beta_1=0.8)\n",
    "    \n",
    "    model = Model(inputs=[main_input], outputs=[output]) #possibly do x as output\n",
    "    model.compile(optimizer=optimizer, loss={'output':'mean_squared_error'})#, metrics=['mean_absolute_error'])#, 'val_loss', 'val_accuracy'])\n",
    "    print(model.summary())\n",
    "    return model\n",
    "\n",
    "model = unet_model(input_shape=(PATCH_SIZE_W, PATCH_SIZE_D, 1))  \n",
    "#UNet will classify all pixels into different classes, of which I will have 3: \n",
    "#pixels belonging to the hit track, pixels bordering the hit track, and pixels that are zero"
   ]
  },
  {
   "cell_type": "code",
   "execution_count": 13,
   "id": "98fad175-a656-4313-8057-4078f32b265e",
   "metadata": {},
   "outputs": [
    {
     "name": "stdout",
     "output_type": "stream",
     "text": [
      "Train: (4408, 2400, 80, 1) (4408,)\n",
      "Test: (501, 2400, 80, 1) (501,)\n",
      "Val: (501, 2400, 80, 1) (501,)\n",
      "Ydata: (5410,)\n",
      "Correct Michel Values: (501,)\n"
     ]
    }
   ],
   "source": [
    "#go through this cell to find errors\n",
    "X_test, X_val                    = None, None #cant call 0 since wont be integers but initializing values\n",
    "michel_test, michel_val          = None, None #initializing values\n",
    "test_indices = []\n",
    "all_dataY = [] #dataY is being overwritten so making a list to append it to\n",
    "dirs = os.listdir(INPUT_DIR)\n",
    "#dirs = [directory for directory in dirs if directory != '.ipynb_checkpoints' and directory == 'test']\n",
    "for directory in dirs:\n",
    "    if directory == '.ipynb_checkpoints':\n",
    "        continue  # Skip processing the '.ipynb_checkpoints' folder\n",
    "    #print ('Reading data from', directory)\n",
    "    x_file_path = os.path.join(INPUT_DIR, directory, 'X.npy') #how to combine all the files within folders\n",
    "    y_file_path = os.path.join(INPUT_DIR, directory, 'Y.npy') #how to combine all the files within folders\n",
    "    dataX = np.load(x_file_path)\n",
    "    dataY = np.load(y_file_path)\n",
    "\n",
    "    if dataX.dtype != np.dtype('float32'): \n",
    "        dataX = dataX.astype('float32')\n",
    "    n_patches    = dataX.shape[0]\n",
    "    n_validation = int(math.floor(FRACTION_VALIDATION * n_patches))\n",
    "    n_testing    = int(math.floor(FRACTION_TEST * n_patches))\n",
    "    n_training   = n_patches - n_validation - n_testing\n",
    "    \n",
    "    dataX = dataX.reshape(n_patches, PATCH_SIZE_W, PATCH_SIZE_D, 1)\n",
    "    \n",
    "    if X_test is None:\n",
    "        X_train = dataX[:n_training]\n",
    "        X_test  = dataX[n_training:n_training + n_testing]\n",
    "        X_val   = dataX[n_training + n_testing:]\n",
    "       # X_test_indices = list(range(n_training, n_training + n_testing))\n",
    "       # test_indices.extend(X_test_indices)\n",
    "        \n",
    "        michel_train = dataY[:n_training]\n",
    "        michel_test = dataY[n_training:n_training + n_testing]\n",
    "        michel_val  = dataY[n_training + n_testing:]\n",
    "    \n",
    "    else:\n",
    "        X_train = np.concatenate((X_train, dataX[:n_training]))\n",
    "        X_test  = np.concatenate((X_test, dataX[n_training:n_training + n_testing]))\n",
    "        X_val   = np.concatenate((X_val, dataX[n_training + n_testing:]))\n",
    "       # X_test_indices = list(range(X_test.shape[0], X_test.shape[0] + n_testing))\n",
    "       # test_indices.extend(X_test_indices)\n",
    "        \n",
    "        michel_train = np.concatenate((michel_train, dataY[:n_training]))\n",
    "        michel_test = np.concatenate((michel_test, dataY[n_training:n_training + n_testing]))\n",
    "        michel_val  = np.concatenate((michel_val, dataY[n_training + n_testing:]))\n",
    "        \n",
    "    all_dataY.append(dataY)\n",
    "    \n",
    "    start_index = X_test.shape[0] - n_testing\n",
    "    end_index = X_test.shape[0]\n",
    "    index_range = range(start_index, end_index)\n",
    "    test_indices.extend(index_range)\n",
    "\n",
    "dataY = np.concatenate(all_dataY)\n",
    "\n",
    "print ('Train:', X_train.shape, michel_train.shape) \n",
    "print ('Test:', X_test.shape, michel_test.shape) \n",
    "print ('Val:', X_val.shape, michel_val.shape) \n",
    "print(\"Ydata:\", dataY.shape)\n",
    "\n",
    "test_indices = np.array(test_indices)\n",
    "correct_michel_values = dataY[test_indices]\n",
    "#print('Test Indices within dataX:', test_indices)\n",
    "print('Correct Michel Values:', correct_michel_values.shape) #compare for target values\n",
    "#X_train_small = X_train[:50]\n",
    "#michel_train_small = michel_train[:50]#something important to note: to make predictions data must be 4D because training on multiple dimensions, if not enough do np.expand_dims(imageinput, axis = 0)"
   ]
  },
  {
   "cell_type": "code",
   "execution_count": 14,
   "id": "9f33bc90-77fb-48bb-a29d-a793abd81bf0",
   "metadata": {
    "tags": []
   },
   "outputs": [],
   "source": [
    "X_small_test = X_test[:100]\n",
    "michel_small_test = correct_michel_values[:100]"
   ]
  },
  {
   "cell_type": "code",
   "execution_count": 15,
   "id": "2808c49f-f013-4136-99a6-aa459be5145f",
   "metadata": {},
   "outputs": [
    {
     "name": "stdout",
     "output_type": "stream",
     "text": [
      "Configuration [40]layers_LeakyReLu_10_epoch\n",
      "Epoch 1/10\n",
      "100/100 [==============================] - ETA: 0s - loss: 0.0206\n",
      "Epoch 1: loss improved from inf to 0.02065, saving model to file_output/best_model.h5\n",
      "100/100 [==============================] - 589s 6s/step - loss: 0.0206 - val_loss: 0.0122\n",
      "Epoch 2/10\n",
      "100/100 [==============================] - ETA: 0s - loss: 0.0073\n",
      "Epoch 2: loss improved from 0.02065 to 0.00734, saving model to file_output/best_model.h5\n",
      "100/100 [==============================] - 585s 6s/step - loss: 0.0073 - val_loss: 0.0122\n",
      "Epoch 3/10\n",
      "100/100 [==============================] - ETA: 0s - loss: 0.0058\n",
      "Epoch 3: loss improved from 0.00734 to 0.00578, saving model to file_output/best_model.h5\n",
      "100/100 [==============================] - 584s 6s/step - loss: 0.0058 - val_loss: 0.0134\n",
      "Epoch 4/10\n",
      "100/100 [==============================] - ETA: 0s - loss: 0.0047\n",
      "Epoch 4: loss improved from 0.00578 to 0.00471, saving model to file_output/best_model.h5\n",
      "100/100 [==============================] - 584s 6s/step - loss: 0.0047 - val_loss: 0.0122\n",
      "Epoch 5/10\n",
      "100/100 [==============================] - ETA: 0s - loss: 0.0038\n",
      "Epoch 5: loss improved from 0.00471 to 0.00383, saving model to file_output/best_model.h5\n",
      "100/100 [==============================] - 592s 6s/step - loss: 0.0038 - val_loss: 0.0138\n",
      "Epoch 6/10\n",
      "100/100 [==============================] - ETA: 0s - loss: 0.0032\n",
      "Epoch 6: loss improved from 0.00383 to 0.00315, saving model to file_output/best_model.h5\n",
      "100/100 [==============================] - 598s 6s/step - loss: 0.0032 - val_loss: 0.0125\n",
      "Epoch 7/10\n",
      "100/100 [==============================] - ETA: 0s - loss: 0.0027\n",
      "Epoch 7: loss improved from 0.00315 to 0.00266, saving model to file_output/best_model.h5\n",
      "100/100 [==============================] - 598s 6s/step - loss: 0.0027 - val_loss: 0.0133\n",
      "Epoch 8/10\n",
      "100/100 [==============================] - ETA: 0s - loss: 0.0023\n",
      "Epoch 8: loss improved from 0.00266 to 0.00227, saving model to file_output/best_model.h5\n",
      "100/100 [==============================] - 591s 6s/step - loss: 0.0023 - val_loss: 0.0132\n",
      "Epoch 9/10\n",
      "100/100 [==============================] - ETA: 0s - loss: 0.0019\n",
      "Epoch 9: loss improved from 0.00227 to 0.00194, saving model to file_output/best_model.h5\n",
      "100/100 [==============================] - 589s 6s/step - loss: 0.0019 - val_loss: 0.0128\n",
      "Epoch 10/10\n",
      "100/100 [==============================] - ETA: 0s - loss: 0.0017\n",
      "Epoch 10: loss improved from 0.00194 to 0.00166, saving model to file_output/best_model.h5\n",
      "100/100 [==============================] - 588s 6s/step - loss: 0.0017 - val_loss: 0.0135\n",
      "4/4 [==============================] - 17s 4s/step - loss: 0.1724\n",
      "Test score: 0.1723705679178238\n"
     ]
    }
   ],
   "source": [
    "#note to self: before running with multiple files, check to make sure test and val michel shapes are of same length\n",
    "print ('Configuration', CONFIG_NAME)      \n",
    "output = \"file_output\"\n",
    " \n",
    "X_small_train = X_train[:1000]\n",
    "X_small_val = X_val[:100]\n",
    "michel_small_train = michel_train[:1000]\n",
    "michel_small_val = michel_val[:100]\n",
    "\n",
    "#checkpoint = ModelCheckpoint(output + '/' +\"best_model.h5\", monitor='val_loss', verbose=1, save_best_only=True, save_weights_only=False, mode='auto', period=1)\n",
    "checkpoint = ModelCheckpoint(output + '/' + 'best_model.h5', monitor='loss', verbose=1, save_best_only=True, save_weights_only=False, mode='auto', save_freq='epoch')\n",
    "\n",
    "h = model.fit({'main_input': X_small_train}, {'output': michel_small_train/2},  #divide by 2 to normalize values\n",
    "                validation_data=({'main_input': X_small_val}, {'output': michel_small_val/2}), \n",
    "                batch_size=BATCH_SIZE,epochs=N_EPOCH, \n",
    "                shuffle=True, verbose=1,\n",
    "                callbacks = [checkpoint])\n",
    "\n",
    "score = model.evaluate({'main_input': X_small_test}, \n",
    "                       {'output': michel_small_test},\n",
    "                       verbose=1)\n",
    "\n",
    "print('Test score:', score)"
   ]
  },
  {
   "cell_type": "code",
   "execution_count": 16,
   "id": "f315cfdb-257d-498e-bcbd-2676c91d9ac2",
   "metadata": {},
   "outputs": [
    {
     "name": "stdout",
     "output_type": "stream",
     "text": [
      "loss\n",
      "val_loss\n",
      "loss: [0.02064906433224678, 0.007337986025959253, 0.005777917802333832, 0.00471249595284462, 0.0038307588547468185, 0.003150773700326681, 0.002657330594956875, 0.002267661038786173, 0.0019361278973519802, 0.0016638119705021381]\n",
      "val loss [0.012221348471939564, 0.012158270925283432, 0.01343547087162733, 0.012240167707204819, 0.013825958594679832, 0.012458400800824165, 0.013323928229510784, 0.013211701065301895, 0.01278697233647108, 0.013492004945874214]\n",
      "10\n"
     ]
    }
   ],
   "source": [
    "for key in h.history.keys():\n",
    "    print(key)\n",
    "print(\"loss:\", h.history['loss'])  # Loss values at each epoch\n",
    "print(\"val loss\", h.history['val_loss'])\n",
    "print(len(h.history['val_loss']))"
   ]
  },
  {
   "cell_type": "code",
   "execution_count": 27,
   "id": "af99302c-949b-4486-a884-5947cbac591b",
   "metadata": {},
   "outputs": [],
   "source": [
    "os.makedirs(output, exist_ok=True)\n",
    "np.save(output + '/' + datetime.datetime.now().strftime(\"%y%m%d-%H:%M\") + '_losses.npy', h.history['loss'])"
   ]
  },
  {
   "cell_type": "code",
   "execution_count": 28,
   "id": "0d00c1b1-1429-45db-8061-4040cdf69390",
   "metadata": {},
   "outputs": [
    {
     "name": "stdout",
     "output_type": "stream",
     "text": [
      "History saved\n"
     ]
    }
   ],
   "source": [
    "model.save_weights(CONFIG_NAME + '_weights.h5', overwrite=True)\n",
    "\n",
    "# Save history\n",
    "if save_history(h, output + '/' + CONFIG_NAME):\n",
    "    print ('History saved')\n",
    "else:\n",
    "    print ('Error, couldn\\'t save history')"
   ]
  },
  {
   "cell_type": "code",
   "execution_count": 20,
   "id": "d5875282-4a84-4d23-8375-9ed0751217bb",
   "metadata": {},
   "outputs": [
    {
     "name": "stdout",
     "output_type": "stream",
     "text": [
      "4/4 [==============================] - 17s 4s/step\n",
      "(100,)\n",
      "[0.68926024 0.49521762 0.4542527  0.3002428  0.68108034 0.51582706\n",
      " 0.42602476 0.5816282  0.64483637 0.6378151  0.51220715 0.61043787\n",
      " 0.47378454 0.48407027 0.6079521  0.468252   0.70092756 0.60798955\n",
      " 0.6080709  0.43995965 0.5992665  0.58983517 0.5635333  0.5292351\n",
      " 0.76038843 0.37772465 0.38298842 0.598699   0.5389401  0.32885256\n",
      " 0.45755902 0.5670409  0.8813604  0.538756   0.8280964  0.46849966\n",
      " 0.589586   0.5113827  0.7072199  0.47533873 0.61188465 0.5359279\n",
      " 0.6957189  0.6220184  0.61889005 0.49060425 0.61345744 0.5843271\n",
      " 0.55533504 0.4768708  0.71069586 0.34420612 0.60043263 0.390633\n",
      " 0.6154052  0.35333386 0.4179913  0.5141872  0.35107356 0.36657763\n",
      " 0.4789916  0.25267482 0.63650084 0.58900094 0.601385   0.45190325\n",
      " 0.69682527 0.7735672  0.61851084 0.41750976 0.723606   0.3990702\n",
      " 0.46321788 0.8286327  0.37927487 0.7017696  0.42785022 0.44715613\n",
      " 0.55404437 0.34055734 0.61448485 0.5059633  0.6085843  0.64151996\n",
      " 0.63232017 0.49869174 0.5157988  0.44147497 0.44548222 0.26458517\n",
      " 0.76379734 0.89346004 0.41912377 0.5894328  0.65661466 0.29708064\n",
      " 0.46102476 0.6484971  0.5959131  0.53149444]\n"
     ]
    }
   ],
   "source": [
    "# modelxtrain = model.predict(X_train[:5]) * 2 #note: to preserve 4 axis shape, make sure that you do [:x] for whatever x desired\n",
    "# modelxtrain\n",
    "#print('Test Indices within dataX:', test_indices)\n",
    "\n",
    "# modeltest = model.predict(X_test)*2\n",
    "# modeltest = np.squeeze(modeltest)\n",
    "# modeltest = modeltest\n",
    "# print(np.shape(modeltest))\n",
    "# print(np.shape(X_test))\n",
    "# modeltest\n",
    "\n",
    "modeltest = model.predict(X_small_test) * 2\n",
    "#modeltest_mean = np.mean(modeltest, axis=(1, 2))  # Take the mean along height and width axes\n",
    "modeltest = np.squeeze(modeltest)\n",
    "print(np.shape(modeltest))\n",
    "print(modeltest)\n",
    "\n",
    "# modeltest = model.predict(X_test) * 2\n",
    "# modeltest_mean = np.mean(modeltest, axis=(1, 2))  # Take the mean along height and width axes\n",
    "# modeltest_mean = np.squeeze(modeltest_mean)\n",
    "# print(np.shape(modeltest_mean))\n",
    "# print(modeltest_mean)"
   ]
  },
  {
   "cell_type": "code",
   "execution_count": 24,
   "id": "48d180c2-3bf6-4cd6-ae5d-d0aa08a071c0",
   "metadata": {
    "tags": []
   },
   "outputs": [
    {
     "name": "stdout",
     "output_type": "stream",
     "text": [
      "0.25267482 0.89346004\n",
      "0.1624444743723126 1.1067589638997355\n"
     ]
    }
   ],
   "source": [
    "print(min(modeltest), max(modeltest))\n",
    "print(min(targets), max(targets))"
   ]
  },
  {
   "cell_type": "code",
   "execution_count": 23,
   "id": "bcdafc38-e5f3-4676-8754-f6a5c974e752",
   "metadata": {},
   "outputs": [
    {
     "name": "stdout",
     "output_type": "stream",
     "text": [
      "(100,)\n"
     ]
    },
    {
     "data": {
      "text/plain": [
       "array([0.36327762, 0.434775  , 0.21266474, 0.4779025 , 0.53216344,\n",
       "       0.49046453, 0.61474541, 0.3143312 , 0.46854861, 0.39302293,\n",
       "       0.26532113, 0.49826443, 0.87343899, 0.38598448, 0.42294937,\n",
       "       0.79683576, 0.51048963, 0.52654163, 0.91718785, 0.92047773,\n",
       "       0.90491647, 0.47902856, 0.55095424, 0.22771688, 0.55743369,\n",
       "       0.55488937, 0.2403532 , 0.36864114, 0.41573391, 0.55804266,\n",
       "       0.27649439, 0.70813762, 0.4582652 , 0.20056857, 0.48186552,\n",
       "       0.74597278, 0.61428647, 0.54801994, 1.05670836, 0.30918675,\n",
       "       0.56933555, 1.09040215, 0.77311389, 0.74661495, 0.50201362,\n",
       "       0.43986341, 0.67442618, 0.57051111, 0.69989176, 0.86059321,\n",
       "       0.51886088, 0.59616271, 0.64514527, 1.06422022, 0.61743389,\n",
       "       0.82217758, 0.96433714, 0.31384388, 1.10675896, 0.41311132,\n",
       "       0.84498984, 0.2680617 , 0.19824106, 0.25317691, 0.35648853,\n",
       "       0.47069206, 0.44051295, 0.33418514, 0.90365639, 0.40539248,\n",
       "       0.49676926, 0.88962608, 0.69462597, 0.62005744, 0.83812497,\n",
       "       0.65187634, 0.86738395, 0.41779267, 0.7057337 , 1.04719446,\n",
       "       0.46079808, 0.5074977 , 1.07781818, 0.39204572, 0.63276897,\n",
       "       0.16244447, 0.86240811, 0.90649179, 0.52938484, 0.6733931 ,\n",
       "       0.50838656, 0.72217602, 0.73291714, 0.49614089, 0.97631625,\n",
       "       0.66423187, 1.0434322 , 0.95940451, 0.71358724, 0.66339745])"
      ]
     },
     "execution_count": 23,
     "metadata": {},
     "output_type": "execute_result"
    }
   ],
   "source": [
    "#comparing predictions\n",
    "targets = correct_michel_values\n",
    "targets = michel_small_test\n",
    "print(np.shape(targets))\n",
    "targets = np.reshape(targets, (100,), order = 'C')\n",
    "targets"
   ]
  },
  {
   "cell_type": "code",
   "execution_count": 28,
   "id": "a95612e0-6378-473a-9b1b-125cb7ebbd5a",
   "metadata": {},
   "outputs": [
    {
     "data": {
      "image/png": "[encoded data removed]",
      "text/plain": [
       "<Figure size 640x480 with 1 Axes>"
      ]
     },
     "metadata": {},
     "output_type": "display_data"
    }
   ],
   "source": [
    "import matplotlib.pyplot as plt\n",
    "plt.imshow(dataX[5], aspect = \"auto\")\n",
    "plt.title(\"Momentum: {} GeV/C\".format(dataY[5]))\n",
    "plt.show()"
   ]
  },
  {
   "cell_type": "code",
   "execution_count": 26,
   "id": "a94a096b-9001-43f7-979f-60785c678f30",
   "metadata": {},
   "outputs": [
    {
     "data": {
      "text/plain": [
       "array([-4.72945630e+01, -1.22052648e+01, -5.31836042e+01,  5.91720028e+01,\n",
       "       -2.18648073e+01, -4.91686642e+00,  4.42980468e+01, -4.59566784e+01,\n",
       "       -2.73383704e+01, -3.83798027e+01, -4.82004238e+01, -1.83758972e+01,\n",
       "        8.43536288e+01, -2.02627166e+01, -3.04304807e+01,  7.01724189e+01,\n",
       "       -2.71694159e+01, -1.33962700e+01,  5.08356735e+01,  1.09218672e+02,\n",
       "        5.10040072e+01, -1.87860294e+01, -2.23217723e+00, -5.69724550e+01,\n",
       "       -2.66909300e+01,  4.69031410e+01, -3.72426985e+01, -3.84262953e+01,\n",
       "       -2.28608284e+01,  6.96938748e+01, -3.95718627e+01,  2.48829843e+01,\n",
       "       -4.80047896e+01, -6.27719106e+01, -4.18104551e+01,  5.92258952e+01,\n",
       "        4.18945709e+00,  7.16434988e+00,  4.94172271e+01, -3.49544364e+01,\n",
       "       -6.95377831e+00,  1.03460609e+02,  1.11244659e+01,  2.00310076e+01,\n",
       "       -1.88848449e+01, -1.03425193e+01,  9.93854458e+00, -2.36442688e+00,\n",
       "        2.60305401e+01,  8.04667435e+01, -2.69925567e+01,  7.31993329e+01,\n",
       "        7.44673708e+00,  1.72434807e+02,  3.29651059e-01,  1.32691420e+02,\n",
       "        1.30707461e+02, -3.89631104e+01,  2.15249874e+02,  1.26940899e+01,\n",
       "        7.64101586e+01,  6.08959672e+00, -6.88545483e+01, -5.70158739e+01,\n",
       "       -4.07220775e+01,  4.15770527e+00, -3.67828671e+01, -5.67994693e+01,\n",
       "        4.61019489e+01, -2.90227655e+00, -3.13480996e+01,  1.22924707e+02,\n",
       "        4.99566392e+01, -2.51710155e+01,  1.20980884e+02, -7.10963457e+00,\n",
       "        1.02730749e+02, -6.56671417e+00,  2.73785534e+01,  2.07494318e+02,\n",
       "       -2.50106683e+01,  3.03257864e-01,  7.71025326e+01, -3.88879934e+01,\n",
       "        7.09781445e-02, -6.74258741e+01,  6.71985458e+01,  1.05332543e+02,\n",
       "        1.88341115e+01,  1.54509012e+02, -3.34396009e+01, -1.91708647e+01,\n",
       "        7.48689050e+01, -1.58274011e+01,  4.86893778e+01,  1.23586390e+02,\n",
       "        1.26328884e+02,  4.79427588e+01,  1.97468601e+01,  2.48173833e+01])"
      ]
     },
     "execution_count": 26,
     "metadata": {},
     "output_type": "execute_result"
    }
   ],
   "source": [
    "# #calculating percent error\n",
    "# error = np.abs(100*(targets-modeltest)/modeltest)\n",
    "# error\n",
    "error_nonabs = 100*(targets-modeltest)/modeltest #for small batch\n",
    "error_nonabs #for small batch\n",
    "\n",
    "# error_nonabs = 100*(targets-modeltest)/modeltest #for full batch\n",
    "# error_nonabs #for full batch"
   ]
  },
  {
   "cell_type": "code",
   "execution_count": 27,
   "id": "0e5af02f-04e1-4391-820f-bf34b2ec9991",
   "metadata": {
    "tags": []
   },
   "outputs": [
    {
     "data": {
      "image/png": "[encoded data removed]",
      "text/plain": [
       "<Figure size 640x480 with 1 Axes>"
      ]
     },
     "metadata": {},
     "output_type": "display_data"
    }
   ],
   "source": [
    "import matplotlib.pyplot as plt\n",
    "plt.hist(error_nonabs, bins = 40, edgecolor = 'black')\n",
    "plt.xlabel('Error')\n",
    "plt.ylabel('Frequency')\n",
    "plt.title('Fractional Loss in Percent')\n",
    "plt.show()"
   ]
  },
  {
   "cell_type": "code",
   "execution_count": 28,
   "id": "9292ebb4-1e63-4180-a15d-c84d8b425594",
   "metadata": {
    "tags": []
   },
   "outputs": [
    {
     "data": {
      "image/png": "[encoded data removed]",
      "text/plain": [
       "<Figure size 640x480 with 1 Axes>"
      ]
     },
     "metadata": {},
     "output_type": "display_data"
    }
   ],
   "source": [
    "#loss plot\n",
    "plt.plot(h.history['loss'], label = 'train')\n",
    "plt.plot(h.history['val_loss'], label = 'test')\n",
    "plt.title('Model Loss')\n",
    "plt.xlabel('Epochs')\n",
    "plt.ylabel('Loss')\n",
    "plt.legend(loc = 'best')\n",
    "plt.grid()\n",
    "plt.show()"
   ]
  },
  {
   "cell_type": "code",
   "execution_count": 30,
   "id": "9b79ce13-e43f-4fa2-a03b-41adddbcc42a",
   "metadata": {
    "tags": []
   },
   "outputs": [
    {
     "data": {
      "image/png": "[encoded data removed]",
      "text/plain": [
       "<Figure size 640x480 with 1 Axes>"
      ]
     },
     "metadata": {},
     "output_type": "display_data"
    }
   ],
   "source": [
    "plt.hist2d(targets, modeltest, bins= np.linspace(0, 2, 21))\n",
    "plt.xlabel(\"true values\")\n",
    "plt.ylabel(\"prediction\")\n",
    "plt.show()"
   ]
  },
  {
   "cell_type": "code",
   "execution_count": null,
   "id": "257907fe-344e-4a95-be42-75f1f929c4e3",
   "metadata": {},
   "outputs": [],
   "source": [
    "#alpha = 0.01\n",
    "#four layers on each side of u, one in middle\n",
    "#activation = linear \n",
    "#learning rate = 1e-6\n",
    "#"
   ]
  }
 ],
 "metadata": {
  "kernelspec": {
   "display_name": "Python 3 (ipykernel)",
   "language": "python",
   "name": "py3-preamble"
  },
  "language_info": {
   "codemirror_mode": {
    "name": "ipython",
    "version": 3
   },
   "file_extension": ".py",
   "mimetype": "text/x-python",
   "name": "python",
   "nbconvert_exporter": "python",
   "pygments_lexer": "ipython3",
   "version": "3.9.15"
  }
 },
 "nbformat": 4,
 "nbformat_minor": 5
}
